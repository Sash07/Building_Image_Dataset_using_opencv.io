{
 "cells": [
  {
   "cell_type": "code",
   "execution_count": null,
   "id": "7767bab4",
   "metadata": {},
   "outputs": [],
   "source": [
    "##Load libraries\n",
    "import cv2\n",
    "import matplotlib.pyplot as plt\n",
    "import os\n",
    "from IPython.display import clear_output"
   ]
  },
  {
   "cell_type": "code",
   "execution_count": null,
   "id": "580fecd9",
   "metadata": {},
   "outputs": [],
   "source": [
    "##Detect Face\n",
    "\n",
    "def detect_face(frame):\n",
    "    detector=cv2.CascadeClassifier(\"C:/Users/smart/Downloads/haarcascade_frontalface_alt.xml\")\n",
    "    faces=detector.detectMultiScale(frame,1.2)\n",
    "    return faces"
   ]
  },
  {
   "cell_type": "code",
   "execution_count": null,
   "id": "5591b7bb",
   "metadata": {},
   "outputs": [],
   "source": [
    "##Gray Scale\n",
    "\n",
    "def gray_scale(image):\n",
    "    img=cv2.cvtColor(image,cv2.COLOR_BGR2GRAY) \n",
    "    return img\n",
    "    \n"
   ]
  },
  {
   "cell_type": "code",
   "execution_count": null,
   "id": "ca1cb8e8",
   "metadata": {},
   "outputs": [],
   "source": [
    "##Cut Face\n",
    "\n",
    "def cut_face(image,face_coord):\n",
    "    faces=[]\n",
    "    for (x,y,w,h) in face_coord:\n",
    "        face=image[y:y+h,x:x+w]\n",
    "        faces.append(face)\n",
    "        return faces"
   ]
  },
  {
   "cell_type": "code",
   "execution_count": null,
   "id": "1599e7c9",
   "metadata": {},
   "outputs": [],
   "source": [
    "##Normalize Intensity\n",
    "\n",
    "def normalize_intensity(images):\n",
    "    new_images=[]\n",
    "    for image in images:\n",
    "        img=cv2.equalizeHist(image)\n",
    "        new_images.append(img)\n",
    "#         edited_images.append(cv2.equalizeHist(image))\n",
    "    return new_images\n",
    "        "
   ]
  },
  {
   "cell_type": "code",
   "execution_count": null,
   "id": "57892765",
   "metadata": {},
   "outputs": [],
   "source": [
    "##resize image\n",
    "\n",
    "def resize(images,size=(80,100)):\n",
    "    \n",
    "    resized_image=[]\n",
    "    for img in images:\n",
    "        img=cv2.resize(img,size)\n",
    "        resized_image.append(img)\n",
    "    return resized_image\n"
   ]
  },
  {
   "cell_type": "code",
   "execution_count": null,
   "id": "03e4ab41",
   "metadata": {},
   "outputs": [],
   "source": [
    "##MAke ppipeline\n",
    "\n",
    "def pipeliine(frame,face_coord):\n",
    "    faces=cut_face(frame,face_coord)\n",
    "    faces=normalize_intensity(faces)\n",
    "    faces=resize(faces)\n",
    "    return faces\n",
    "                   "
   ]
  },
  {
   "cell_type": "code",
   "execution_count": null,
   "id": "529bf109",
   "metadata": {},
   "outputs": [],
   "source": [
    "##PLOt function\n",
    "def plot_fxn(image,title=''):\n",
    "    if len(image.shape)==3:\n",
    "        image=cv2.cvtColor(image,cv2.COLOR_BGR2RGB)\n",
    "    plt.axis('off')\n",
    "    plt.title(title)\n",
    "    plt.imshow(image,cmap='gray')\n",
    "    plt.show()"
   ]
  },
  {
   "cell_type": "code",
   "execution_count": null,
   "id": "858faa6a",
   "metadata": {},
   "outputs": [],
   "source": [
    "def draw_rectangle(image,coords):\n",
    "    for(x,y,w,h) in coords:\n",
    "        cv2.rectangle(image,(x,y),(x+w,y+h),(0,0,255),2)"
   ]
  },
  {
   "cell_type": "code",
   "execution_count": null,
   "id": "fa76a647",
   "metadata": {},
   "outputs": [],
   "source": [
    "cam=cv2.VideoCapture(0)\n",
    "name=input(\"Person Name:\")\n",
    "no_samples=int(input(\"Enter no. of samples\"))\n",
    "folder=\"C:/Users/smart/Downloads/AI_Dataset/\"+name.lower()\n",
    "if os.path.exists(folder):\n",
    "    print(\"A person with this name exists\")\n",
    "else:\n",
    "    os.mkdir(folder)\n",
    "    flag_starts_capturing=False\n",
    "    sample=1\n",
    "    cv2.namedWindow(name,cv2.WINDOW_NORMAL)\n",
    "    while(True):\n",
    "        ret,frame=cam.read()\n",
    "        gray=gray_scale(frame)\n",
    "        face_coord=detect_face(gray)\n",
    "        \n",
    "        if len(face_coord)>0:\n",
    "            faces=pipeliine(gray,face_coord)\n",
    "            img_name=str(sample)+\".jpg\"\n",
    "            cv2.imwrite(folder+'/'+img_name,faces[0])\n",
    "            plot_fxn(faces[0],\"Image Saved: {}\".format(sample))\n",
    "            clear_output(wait=True)\n",
    "            if flag_starts_capturing==True:\n",
    "                sample+=1\n",
    "        else:\n",
    "            print(\"No face found\")\n",
    "        draw_rectangle(frame,face_coord)\n",
    "        cv2.imshow(name,frame)\n",
    "        keypress=cv2.waitKey(1)\n",
    "        \n",
    "        if(keypress==ord('m')):\n",
    "            if flag_starts_capturing==False:\n",
    "                flag_starts_capturing=True\n",
    "        if sample>no_samples:\n",
    "            break\n",
    "        if keypress==ord('q'):\n",
    "            break\n",
    "    cam.release()\n",
    "    cv2.destroyAllWindows()"
   ]
  },
  {
   "cell_type": "code",
   "execution_count": null,
   "id": "47c1c871",
   "metadata": {},
   "outputs": [],
   "source": [
    "path=\"C://Users\\smart\\Downloads\\lfw-deepfunneled\\lfw-deepfunneled\"\n",
    "c=1\n",
    "for person_name in os.listdir(path)[:210]:\n",
    "    for img_name in os.listdir(path+'/'+person_name)[:1]:\n",
    "        img=cv2.imread(path+'/'+person_name+'/'+img_name,0)\n",
    "        face_coord=detect_face(img)\n",
    "        if len(face_coord)>0:\n",
    "            faces=cut_face(img,face_coord)\n",
    "            faces=normalize_intensity(faces)\n",
    "            faces=resize(faces)\n",
    "            img_to_save='C://Users/smart/Downloads/AI_Dataset/Unknown/'+str(c)+'.jpg'\n",
    "            cv2.imwrite(img_to_save,faces[0])\n",
    "            print('AI_Dataset/Unknown/'+str(c)+'.jpg','saved!!!')\n",
    "        c+=1\n",
    "        if c==200:\n",
    "            break"
   ]
  },
  {
   "cell_type": "markdown",
   "id": "9e9cb006",
   "metadata": {},
   "source": []
  }
 ],
 "metadata": {
  "kernelspec": {
   "display_name": "Python 3 (ipykernel)",
   "language": "python",
   "name": "python3"
  },
  "language_info": {
   "codemirror_mode": {
    "name": "ipython",
    "version": 3
   },
   "file_extension": ".py",
   "mimetype": "text/x-python",
   "name": "python",
   "nbconvert_exporter": "python",
   "pygments_lexer": "ipython3",
   "version": "3.10.9"
  }
 },
 "nbformat": 4,
 "nbformat_minor": 5
}
